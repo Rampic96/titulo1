{
 "cells": [
  {
   "cell_type": "code",
   "execution_count": 64,
   "source": [
    "import random\r\n",
    "from time import sleep\r\n",
    "from selenium import webdriver  \r\n",
    "from webdriver_manager.chrome import ChromeDriverManager\r\n",
    "\r\n",
    "driver = webdriver.Chrome(ChromeDriverManager().install())"
   ],
   "outputs": [
    {
     "output_type": "stream",
     "name": "stderr",
     "text": [
      "\n",
      "\n",
      "====== WebDriver manager ======\n",
      "Current google-chrome version is 93.0.4577\n",
      "Get LATEST driver version for 93.0.4577\n",
      "Driver [C:\\Users\\ruribeg\\.wdm\\drivers\\chromedriver\\win32\\93.0.4577.63\\chromedriver.exe] found in cache\n"
     ]
    }
   ],
   "metadata": {}
  },
  {
   "cell_type": "code",
   "execution_count": 65,
   "source": [
    "url_base=[]\r\n",
    "url1 = \"https://www.pcfactory.cl/notebooks?categoria=735&papa=636\"\r\n",
    "url2 = \"https://www.pcfactory.cl/notebooks?categoria=735&papa=636&pagina=2\"\r\n",
    "\r\n",
    "url_base.append(url1)\r\n",
    "url_base.append(url2)"
   ],
   "outputs": [],
   "metadata": {}
  },
  {
   "cell_type": "code",
   "execution_count": 66,
   "source": [
    "##Obtención de urls de cada uno de los notebooks del sitio para la posterior navegación en cada uno de ellos\r\n",
    "url_notebooks=[]\r\n",
    "for url in url_base:\r\n",
    "    driver.get(url)\r\n",
    "    notebook = driver.find_elements_by_xpath('//div[@class=\"product\"]')\r\n",
    "    for i in notebook:\r\n",
    "        link = i.find_element_by_tag_name('a').get_attribute('href')\r\n",
    "        url_notebooks.append(link)"
   ],
   "outputs": [],
   "metadata": {}
  },
  {
   "cell_type": "code",
   "execution_count": 67,
   "source": [
    "marca = []\r\n",
    "nombre_equipo = []\r\n",
    "modelo = []\r\n",
    "procesador = []\r\n",
    "almacenamiento = []\r\n",
    "codigo = []\r\n",
    "ram = []\r\n",
    "precios = []"
   ],
   "outputs": [],
   "metadata": {}
  },
  {
   "cell_type": "code",
   "execution_count": 68,
   "source": [
    "driver.get(\"https://www.pcfactory.cl/producto/42710-hp-notebook-chromebook-11-6-hd-amd-a4-9120-4gb-32gb-emmc-chrome-os-gris\")\r\n"
   ],
   "outputs": [],
   "metadata": {}
  },
  {
   "cell_type": "code",
   "execution_count": 69,
   "source": [
    "caracteristicas = driver.find_elements_by_xpath(\"//li\")"
   ],
   "outputs": [],
   "metadata": {}
  },
  {
   "cell_type": "code",
   "execution_count": 70,
   "source": [
    "for i in range(len(caracteristicas)):\r\n",
    "    caracteristicas[i] = caracteristicas[i].text"
   ],
   "outputs": [],
   "metadata": {}
  },
  {
   "cell_type": "code",
   "execution_count": 71,
   "source": [
    "nombres = []\r\n",
    "marca = []\r\n",
    "modelo = []\r\n",
    "almacenamiento = []\r\n",
    "ram = []\r\n",
    "procesador = []\r\n",
    "precios = []\r\n",
    "codigos = []\r\n",
    "maux = 0\r\n",
    "moaux = 0\r\n",
    "almaux = 0\r\n",
    "proaux = 0\r\n",
    "ramaux = 0\r\n",
    "bloque_codigo = driver.find_elements_by_xpath('//p[@class=\"link color-dark\"]')\r\n",
    "for i in caracteristicas:\r\n",
    "        if(i.find(\"Marca\")!=-1):\r\n",
    "            maux = maux + 1\r\n",
    "            nombre_marca = i\r\n",
    "        if(i.find(\"Modelo\")!=-1):\r\n",
    "            moaux = moaux + 1\r\n",
    "            nombre_modelo = i\r\n",
    "        if(i.find(\"Almacenamiento\")!=-1):\r\n",
    "            almaux = almaux + 1\r\n",
    "            nombre_almacenamiento = i\r\n",
    "        if(i.find(\"RAM:\")!=-1 or i.find(\"Memoria:\")!=-1 or i.find(\"Memoria Total:\")!=-1):\r\n",
    "            ramaux = ramaux + 1\r\n",
    "            nombre_ram = i\r\n",
    "        if(i.find(\"Procesador:\")!=-1):\r\n",
    "            proaux = proaux + 1\r\n",
    "            nombre_procesador = i\r\n",
    "\r\n",
    "if(maux >= 1):\r\n",
    "    marca.append(nombre_marca)\r\n",
    "elif(maux == 0):\r\n",
    "    marca.append(\"Marca no encontrada\")\r\n",
    "if(moaux >= 1):\r\n",
    "    modelo.append(nombre_modelo)\r\n",
    "elif(moaux == 0):\r\n",
    "    modelo.append(\"Modelo no encontrado\")\r\n",
    "if(almaux >= 1):\r\n",
    "    almacenamiento.append(nombre_almacenamiento)\r\n",
    "elif (almaux == 0 ):\r\n",
    "    almacenamiento.append(\"Almacenamiento no encontrado\")\r\n",
    "if(ramaux >= 1):\r\n",
    "    ram.append(nombre_ram)\r\n",
    "elif(ramaux == 0):\r\n",
    "    ram.append(\"Memoria ram no encontrada\")\r\n",
    "if(proaux >= 1):\r\n",
    "    procesador.append(nombre_procesador)\r\n",
    "elif(proaux == 0):\r\n",
    "    procesador.append(\"Procesador no encontrado\")"
   ],
   "outputs": [],
   "metadata": {}
  },
  {
   "cell_type": "code",
   "execution_count": 72,
   "source": [
    "for i in range(len(almacenamiento)):\r\n",
    "    almacenamiento[i] = almacenamiento[i].replace(\"\\xa0\", \" \")\r\n",
    "    almacenamiento[i] = almacenamiento[i].replace(\"Almacenamiento:\", \"\")\r\n",
    "    almacenamiento[i] = almacenamiento[i].lstrip()\r\n",
    "\r\n",
    "for i in range(len(marca)):\r\n",
    "    marca[i] = marca[i].replace(\"\\xa0\",\" \")\r\n",
    "    marca[i] = marca[i].replace(\"Marca:\",\"\")\r\n",
    "    marca[i] = marca[i].lstrip()\r\n",
    "\r\n",
    "for i in range(len(modelo)):\r\n",
    "    modelo[i] = modelo[i].replace(\"\\xa0\", \" \")\r\n",
    "    modelo[i] = modelo[i].replace(\"Modelo:\", \"\")\r\n",
    "    modelo[i] = modelo[i].lstrip()\r\n",
    "\r\n",
    "for i in range(len(ram)):\r\n",
    "    ram[i] = ram[i].replace(\"\\xa0\", \" \")\r\n",
    "    ram[i] = ram[i].replace(\"Memoria RAM:\", \"\")\r\n",
    "    ram[i] = ram[i].replace(\"Memoria:\", \"\")\r\n",
    "    ram[i] = ram[i].replace(\"Memoria Total:\", \"\")\r\n",
    "    ram[i] = ram[i].lstrip()\r\n",
    "\r\n",
    "for i in range(len(procesador)):\r\n",
    "    procesador[i] = procesador[i].replace(\"\\xa0\",\" \")\r\n",
    "    procesador[i] = procesador[i].replace(\"Procesador:\",\"\")\r\n",
    "    procesador[i] = procesador[i].lstrip()\r\n",
    "\r\n",
    "for i in range(len(precios)):\r\n",
    "    precios[i] = precios[i].replace(\" \",\"\")\r\n",
    "    precios[i] = precios[i].replace(\"$\",\"\")\r\n",
    "    precios[i] = precios[i].replace(\".\",\"\")\r\n",
    "\r\n",
    "for i in range(len(marca)):\r\n",
    "    nombres.append(marca[i] + \" \" + modelo[i])"
   ],
   "outputs": [],
   "metadata": {}
  },
  {
   "cell_type": "code",
   "execution_count": 73,
   "source": [
    "marca"
   ],
   "outputs": [
    {
     "output_type": "execute_result",
     "data": {
      "text/plain": [
       "['HP']"
      ]
     },
     "metadata": {},
     "execution_count": 73
    }
   ],
   "metadata": {}
  },
  {
   "cell_type": "code",
   "execution_count": 76,
   "source": [
    "for i in bloque_codigo:\r\n",
    "    print(i.text)"
   ],
   "outputs": [
    {
     "output_type": "stream",
     "name": "stdout",
     "text": [
      "\n",
      "ID 42710\n",
      "ID 41145\n"
     ]
    }
   ],
   "metadata": {}
  },
  {
   "cell_type": "code",
   "execution_count": 78,
   "source": [
    "bloque_codigo[1].text"
   ],
   "outputs": [
    {
     "output_type": "execute_result",
     "data": {
      "text/plain": [
       "'ID 42710'"
      ]
     },
     "metadata": {},
     "execution_count": 78
    }
   ],
   "metadata": {}
  },
  {
   "cell_type": "code",
   "execution_count": null,
   "source": [],
   "outputs": [],
   "metadata": {}
  }
 ],
 "metadata": {
  "orig_nbformat": 4,
  "language_info": {
   "name": "python",
   "version": "3.8.8",
   "mimetype": "text/x-python",
   "codemirror_mode": {
    "name": "ipython",
    "version": 3
   },
   "pygments_lexer": "ipython3",
   "nbconvert_exporter": "python",
   "file_extension": ".py"
  },
  "kernelspec": {
   "name": "python3",
   "display_name": "Python 3.8.8 64-bit ('base': conda)"
  },
  "interpreter": {
   "hash": "b3ba2566441a7c06988d0923437866b63cedc61552a5af99d1f4fb67d367b25f"
  }
 },
 "nbformat": 4,
 "nbformat_minor": 2
}