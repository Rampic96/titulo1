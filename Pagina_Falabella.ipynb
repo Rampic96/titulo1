{
 "cells": [
  {
   "cell_type": "code",
   "execution_count": 5,
   "source": [
    "from selenium import webdriver  \r\n",
    "from webdriver_manager.chrome import ChromeDriverManager\r\n",
    "\r\n",
    "driver = webdriver.Chrome(ChromeDriverManager().install())\r\n",
    "driver.get(\"https://www.falabella.com/falabella-cl/product/15059525/TUF-Gaming-F15-FX506LH-HN110T-Intel-Core-i5-8GB-RAM-512GB-SSD-NVIDIA-GeForce-GTX-1650-15.6-144Hz/15059525\")"
   ],
   "outputs": [
    {
     "output_type": "stream",
     "name": "stderr",
     "text": [
      "\n",
      "\n",
      "====== WebDriver manager ======\n",
      "Current google-chrome version is 92.0.4515\n",
      "Get LATEST driver version for 92.0.4515\n",
      "Driver [C:\\Users\\ramir\\.wdm\\drivers\\chromedriver\\win32\\92.0.4515.107\\chromedriver.exe] found in cache\n"
     ]
    }
   ],
   "metadata": {}
  },
  {
   "cell_type": "code",
   "execution_count": 6,
   "source": [
    "nombre = []\r\n",
    "valor = []\r\n",
    "marca = []\r\n",
    "boton = driver.find_element_by_xpath('//button[@class=\"jsx-3459521287 mkp-swatchButton mkp-swatchButton-collapseButton\"]')\r\n",
    "boton.click()\r\n",
    "elementos = driver.find_elements_by_xpath('//tr[@class=\"jsx-428502957\"]')\r\n",
    "precio = driver.find_element_by_xpath('//span[@class=\"copy12 primary  jsx-340449923 normal    \"]').text\r\n",
    "codigo = driver.find_element_by_xpath('//span[@class=\"jsx-3408573263\"]').text\r\n",
    "\r\n",
    "for i in elementos:\r\n",
    "    nombres = i.find_element_by_xpath('.//td[@class=\"jsx-428502957 property-name\"]').text\r\n",
    "    valores = i.find_element_by_xpath('.//td[@class=\"jsx-428502957 property-value\"]').text\r\n",
    "    nombre.append(nombres)\r\n",
    "    valor.append(valores)\r\n",
    "    \r\n",
    "if (\"Procesador\" in nombre)==True:\r\n",
    "    index_marca = nombre.index(\"Procesador\")\r\n",
    "    marca.append(nombre[index_marca])\r\n",
    "    "
   ],
   "outputs": [],
   "metadata": {}
  },
  {
   "cell_type": "code",
   "execution_count": 9,
   "source": [
    "codigo"
   ],
   "outputs": [
    {
     "output_type": "execute_result",
     "data": {
      "text/plain": [
       "'Código del producto: 15059525'"
      ]
     },
     "metadata": {},
     "execution_count": 9
    }
   ],
   "metadata": {}
  },
  {
   "cell_type": "code",
   "execution_count": 8,
   "source": [
    "nombre"
   ],
   "outputs": [
    {
     "output_type": "execute_result",
     "data": {
      "text/plain": [
       "['Procesador',\n",
       " 'Modelo tarjeta de video',\n",
       " 'Tamaño de la pantalla',\n",
       " 'Disco duro HDD',\n",
       " 'Unidad de estado sólido SSD',\n",
       " 'Núcleos del procesador',\n",
       " 'Memoria total (RAM + Intel Optane)',\n",
       " 'Velocidad del procesador',\n",
       " 'Velocidad máxima del procesador',\n",
       " 'Modelo del procesador',\n",
       " 'Generación del procesador',\n",
       " 'Memoria RAM',\n",
       " 'RAM expandible',\n",
       " 'Tarjeta de video',\n",
       " 'Capacidad de la tarjeta de video',\n",
       " 'Tipo de pantalla',\n",
       " 'Resolución de la pantalla',\n",
       " 'Pantalla Touch',\n",
       " 'Tipo de teclado',\n",
       " 'Idioma del teclado',\n",
       " 'Sistema de audio',\n",
       " 'Duración aproximada de la batería',\n",
       " 'Entradas HDMI',\n",
       " 'Entradas USB',\n",
       " 'Unidad óptica',\n",
       " 'Cámara Web',\n",
       " 'Conexión Bluetooth',\n",
       " 'Conectividad',\n",
       " 'Tasa de refresco nativa',\n",
       " 'Alto',\n",
       " 'Ancho',\n",
       " 'Profundidad',\n",
       " 'Peso',\n",
       " 'Incluye accesorios',\n",
       " 'Incluye',\n",
       " 'Sistema operativo',\n",
       " 'Tipo',\n",
       " 'Nombre comercial',\n",
       " 'Hecho en',\n",
       " 'Garantía del proveedor',\n",
       " 'Información adicional',\n",
       " 'Temporada']"
      ]
     },
     "metadata": {},
     "execution_count": 8
    }
   ],
   "metadata": {}
  },
  {
   "cell_type": "code",
   "execution_count": null,
   "source": [],
   "outputs": [],
   "metadata": {}
  }
 ],
 "metadata": {
  "orig_nbformat": 4,
  "language_info": {
   "name": "python",
   "version": "3.8.5",
   "mimetype": "text/x-python",
   "codemirror_mode": {
    "name": "ipython",
    "version": 3
   },
   "pygments_lexer": "ipython3",
   "nbconvert_exporter": "python",
   "file_extension": ".py"
  },
  "kernelspec": {
   "name": "python3",
   "display_name": "Python 3.8.5 64-bit"
  },
  "interpreter": {
   "hash": "07efdcd4b820c98a756949507a4d29d7862823915ec7477944641bea022f4f62"
  }
 },
 "nbformat": 4,
 "nbformat_minor": 2
}