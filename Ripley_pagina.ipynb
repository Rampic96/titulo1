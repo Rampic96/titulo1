{
 "cells": [
  {
   "cell_type": "code",
   "execution_count": 144,
   "source": [
    "import random\r\n",
    "import pandas as pd\r\n",
    "from time import sleep\r\n",
    "from selenium import webdriver  \r\n",
    "from webdriver_manager.chrome import ChromeDriverManager\r\n",
    "\r\n",
    "driver = webdriver.Chrome(ChromeDriverManager().install())"
   ],
   "outputs": [
    {
     "output_type": "stream",
     "name": "stderr",
     "text": [
      "\n",
      "\n",
      "====== WebDriver manager ======\n",
      "Current google-chrome version is 92.0.4515\n",
      "Get LATEST driver version for 92.0.4515\n",
      "Driver [C:\\Users\\ramir\\.wdm\\drivers\\chromedriver\\win32\\92.0.4515.107\\chromedriver.exe] found in cache\n"
     ]
    }
   ],
   "metadata": {}
  },
  {
   "cell_type": "code",
   "execution_count": 145,
   "source": [
    "driver.get(\"https://simple.ripley.cl/hp-pavilion-gaming-laptop-15-dk0014laintel-core-i520gb-memoria16gb-int-optane4gb-ram256gb-ssdnvidia-geforce-gtx-1050156-2000378488460p?s=o\")\r\n",
    "sleep(4)\r\n",
    "boton = driver.find_element_by_xpath('//div[@aria-controls=\"panel-Especificaciones\"]').click()\r\n",
    "sleep(2)\r\n",
    "ver = driver.find_element_by_xpath('//button[@class=\"btn-loading  rpl-show-more btn-outline-grey \"]').click()\r\n",
    "bloque = driver.find_elements_by_xpath('//tr')\r\n",
    "\r\n"
   ],
   "outputs": [],
   "metadata": {}
  },
  {
   "cell_type": "code",
   "execution_count": 146,
   "source": [
    "nombres = []\r\n",
    "valores = []\r\n",
    "nombre_equipo = []\r\n",
    "precios = []\r\n",
    "almacenamiento = []\r\n",
    "procesador = []\r\n",
    "ram = []\r\n",
    "codigos = []\r\n",
    "\r\n",
    "bloque_nombre = driver.find_elements_by_xpath('//section[@class=\"product-header hidden-xs\"]')\r\n",
    "precio = driver.find_element_by_xpath('//dt[@class=\"product-price\"]')\r\n",
    "for i in bloque_nombre:\r\n",
    "    nombre = i.find_element_by_xpath('.//h1')\r\n",
    "    codigo = i.find_element_by_xpath('.//span[@class=\"sku sku-value\"]')\r\n",
    "for i in bloque:\r\n",
    "    elementos = i.find_elements_by_xpath('.//td')\r\n",
    "    for j in range(len(elementos)):\r\n",
    "        if (j==0):\r\n",
    "            nombres.append(elementos[j].text)\r\n",
    "        if (j==1):\r\n",
    "            valores.append(elementos[j].text)\r\n",
    "            \r\n",
    "if (\"Tipo Procesador\" in nombres)==True:\r\n",
    "    index_procesador = nombres.index(\"Tipo Procesador\")\r\n",
    "    procesador.append(valores[index_procesador])\r\n",
    "\r\n",
    "if (\"Tipo Procesador\" in nombres)==False:\r\n",
    "    procesador.append(\"Procesador no especificado\")\r\n",
    "\r\n",
    "if (\"Memoria Ram\" in nombres)==True:\r\n",
    "    index_ram = nombres.index(\"Memoria Ram\")\r\n",
    "    ram.append(valores[index_ram])\r\n",
    "    \r\n",
    "if (\"Memoria Ram\" in nombres)==False:\r\n",
    "    ram.append(\"Memoria Ram no especificada\")\r\n",
    "    \r\n",
    "if (\"Capacidad Disco Duro\" in nombres)==True:\r\n",
    "    idex_almacenamiento = nombres.index(\"Capacidad Disco Duro\")\r\n",
    "    almacenamiento.append(valores[idex_almacenamiento])\r\n",
    "    \r\n",
    "if (\"Capacidad Disco Duro\" in nombres)==False:\r\n",
    "    almacenamiento.append(\"Almacenamiento no especificado\")\r\n",
    "        \r\n",
    "codigos.append(codigo.text)\r\n",
    "precios.append(precio.text)\r\n",
    "    \r\n",
    "    "
   ],
   "outputs": [],
   "metadata": {}
  },
  {
   "cell_type": "code",
   "execution_count": 147,
   "source": [
    "codigos"
   ],
   "outputs": [
    {
     "output_type": "execute_result",
     "data": {
      "text/plain": [
       "['2000378488460P']"
      ]
     },
     "metadata": {},
     "execution_count": 147
    }
   ],
   "metadata": {}
  },
  {
   "cell_type": "code",
   "execution_count": 148,
   "source": [
    "for j in bloque_nombre:\r\n",
    "    print (j.text)"
   ],
   "outputs": [
    {
     "output_type": "stream",
     "name": "stdout",
     "text": [
      "HP PAVILION GAMING LAPTOP 15-DK0014LA/INTEL CORE I5/20GB MEMORIA(16GB INT OPTANE+4GB RAM)/256GB SSD/NVIDIA GEFORCE GTX 1050/15.6\n",
      "SKU:2000378488460P\n",
      "(5 Calificaciones)\n",
      "Notebook Intel® Core™ i5 20GB Memoria (16GB Intel® Optane™ + 4GB RAM) 256GB SSD 15.6\"\n"
     ]
    }
   ],
   "metadata": {}
  },
  {
   "cell_type": "code",
   "execution_count": 149,
   "source": [
    "almacenamiento"
   ],
   "outputs": [
    {
     "output_type": "execute_result",
     "data": {
      "text/plain": [
       "['256 GB SSD']"
      ]
     },
     "metadata": {},
     "execution_count": 149
    }
   ],
   "metadata": {}
  },
  {
   "cell_type": "code",
   "execution_count": 150,
   "source": [
    "precios"
   ],
   "outputs": [
    {
     "output_type": "execute_result",
     "data": {
      "text/plain": [
       "['$799.990']"
      ]
     },
     "metadata": {},
     "execution_count": 150
    }
   ],
   "metadata": {}
  },
  {
   "cell_type": "code",
   "execution_count": null,
   "source": [],
   "outputs": [],
   "metadata": {}
  }
 ],
 "metadata": {
  "orig_nbformat": 4,
  "language_info": {
   "name": "python",
   "version": "3.8.5",
   "mimetype": "text/x-python",
   "codemirror_mode": {
    "name": "ipython",
    "version": 3
   },
   "pygments_lexer": "ipython3",
   "nbconvert_exporter": "python",
   "file_extension": ".py"
  },
  "kernelspec": {
   "name": "python3",
   "display_name": "Python 3.8.5 64-bit"
  },
  "interpreter": {
   "hash": "07efdcd4b820c98a756949507a4d29d7862823915ec7477944641bea022f4f62"
  }
 },
 "nbformat": 4,
 "nbformat_minor": 2
}