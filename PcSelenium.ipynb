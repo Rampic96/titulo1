{
 "cells": [
  {
   "cell_type": "code",
   "execution_count": 90,
   "source": [
    "import random\r\n",
    "from time import sleep\r\n",
    "from selenium import webdriver  \r\n",
    "from webdriver_manager.chrome import ChromeDriverManager\r\n",
    "\r\n",
    "driver = webdriver.Chrome(ChromeDriverManager().install())"
   ],
   "outputs": [
    {
     "output_type": "stream",
     "name": "stderr",
     "text": [
      "\n",
      "\n",
      "====== WebDriver manager ======\n",
      "Current google-chrome version is 93.0.4577\n",
      "Get LATEST driver version for 93.0.4577\n",
      "Driver [C:\\Users\\ruribeg\\.wdm\\drivers\\chromedriver\\win32\\93.0.4577.63\\chromedriver.exe] found in cache\n"
     ]
    }
   ],
   "metadata": {}
  },
  {
   "cell_type": "code",
   "execution_count": 91,
   "source": [
    "url_base=[]\r\n",
    "url1 = \"https://www.pcfactory.cl/notebooks?categoria=735&papa=636\"\r\n",
    "url2 = \"https://www.pcfactory.cl/notebooks?categoria=735&papa=636&pagina=2\"\r\n",
    "\r\n",
    "url_base.append(url1)\r\n",
    "url_base.append(url2)"
   ],
   "outputs": [],
   "metadata": {}
  },
  {
   "cell_type": "code",
   "execution_count": 92,
   "source": [
    "url_notebooks=[]\r\n",
    "for url in url_base:\r\n",
    "    driver.get(url)\r\n",
    "    notebook = driver.find_elements_by_xpath('//div[@class=\"product\"]')\r\n",
    "    for i in notebook:\r\n",
    "        link = i.find_element_by_tag_name('a').get_attribute('href')\r\n",
    "        url_notebooks.append(link)"
   ],
   "outputs": [],
   "metadata": {}
  },
  {
   "cell_type": "code",
   "execution_count": 93,
   "source": [
    "marca = []\r\n",
    "nombres = []\r\n",
    "nombre_equipo = []\r\n",
    "modelo = []\r\n",
    "procesador = []\r\n",
    "almacenamiento = []\r\n",
    "codigos = []\r\n",
    "ram = []\r\n",
    "precios = []"
   ],
   "outputs": [],
   "metadata": {}
  },
  {
   "cell_type": "code",
   "execution_count": 94,
   "source": [
    "for i in url_notebooks:\r\n",
    "    maux = 0\r\n",
    "    moaux = 0\r\n",
    "    almaux = 0\r\n",
    "    proaux = 0\r\n",
    "    ramaux = 0\r\n",
    "    driver.get(i)\r\n",
    "    bloque_codigos = driver.find_elements_by_xpath('//p[@class=\"link color-dark\"]')\r\n",
    "\r\n",
    "    codigo = bloque_codigos[1]\r\n",
    "    codigos.append(codigo.text)\r\n",
    "\r\n",
    "    precio = driver.find_element_by_xpath('//div[@class=\"price-xl color-primary-1\"]').text\r\n",
    "    precios.append(precio)\r\n",
    "\r\n",
    "    \r\n",
    "    \r\n",
    "    caracteristicas = driver.find_elements_by_xpath(\"//li\")\r\n",
    "\r\n",
    "    for i in range(len(caracteristicas)):\r\n",
    "        caracteristicas[i] = caracteristicas[i].text\r\n",
    "\r\n",
    "    for i in caracteristicas:\r\n",
    "        if(i.find(\"Marca\")!=-1):\r\n",
    "            maux = maux + 1\r\n",
    "            nombre_marca = i\r\n",
    "        if(i.find(\"Modelo\")!=-1):\r\n",
    "            moaux = moaux + 1\r\n",
    "            nombre_modelo = i\r\n",
    "        if(i.find(\"Almacenamiento\")!=-1):\r\n",
    "            almaux = almaux + 1\r\n",
    "            nombre_almacenamiento = i\r\n",
    "        if(i.find(\"RAM:\")!=-1 or i.find(\"Memoria:\")!=-1 or i.find(\"Memoria Total:\")!=-1):\r\n",
    "            ramaux = ramaux + 1\r\n",
    "            nombre_ram = i\r\n",
    "        if(i.find(\"Procesador:\")!=-1):\r\n",
    "            proaux = proaux + 1\r\n",
    "            nombre_procesador = i\r\n",
    "\r\n",
    "    if(maux >= 1):\r\n",
    "        marca.append(nombre_marca)\r\n",
    "    elif(maux == 0):\r\n",
    "        marca.append(\"Marca no encontrada\")\r\n",
    "    if(moaux >= 1):\r\n",
    "        modelo.append(nombre_modelo)\r\n",
    "    elif(moaux == 0):\r\n",
    "        modelo.append(\"Modelo no encontrado\")\r\n",
    "    if(almaux >= 1):\r\n",
    "        almacenamiento.append(nombre_almacenamiento)\r\n",
    "    elif (almaux == 0 ):\r\n",
    "        almacenamiento.append(\"Almacenamiento no encontrado\")\r\n",
    "    if(ramaux >= 1):\r\n",
    "        ram.append(nombre_ram)\r\n",
    "    elif(ramaux == 0):\r\n",
    "        ram.append(\"Memoria ram no encontrada\")\r\n",
    "    if(proaux >= 1):\r\n",
    "        procesador.append(nombre_procesador)\r\n",
    "    elif(proaux == 0):\r\n",
    "        procesador.append(\"Procesador no encontrado\")"
   ],
   "outputs": [],
   "metadata": {}
  },
  {
   "cell_type": "code",
   "execution_count": 95,
   "source": [
    "for i in range(len(almacenamiento)):\r\n",
    "    almacenamiento[i] = almacenamiento[i].replace(\"\\xa0\", \" \")\r\n",
    "    almacenamiento[i] = almacenamiento[i].replace(\"Almacenamiento:\", \"\")\r\n",
    "    almacenamiento[i] = almacenamiento[i].lstrip()\r\n",
    "\r\n",
    "for i in range(len(marca)):\r\n",
    "    marca[i] = marca[i].replace(\"\\xa0\",\" \")\r\n",
    "    marca[i] = marca[i].replace(\"Marca:\",\"\")\r\n",
    "    marca[i] = marca[i].lstrip()\r\n",
    "\r\n",
    "for i in range(len(modelo)):\r\n",
    "    modelo[i] = modelo[i].replace(\"\\xa0\", \" \")\r\n",
    "    modelo[i] = modelo[i].replace(\"Modelo:\", \"\")\r\n",
    "    modelo[i] = modelo[i].lstrip()\r\n",
    "\r\n",
    "for i in range(len(ram)):\r\n",
    "    ram[i] = ram[i].replace(\"\\xa0\", \" \")\r\n",
    "    ram[i] = ram[i].replace(\"Memoria RAM:\", \"\")\r\n",
    "    ram[i] = ram[i].replace(\"Memoria:\", \"\")\r\n",
    "    ram[i] = ram[i].replace(\"Memoria Total:\", \"\")\r\n",
    "    ram[i] = ram[i].lstrip()\r\n",
    "\r\n",
    "for i in range(len(procesador)):\r\n",
    "    procesador[i] = procesador[i].replace(\"\\xa0\",\" \")\r\n",
    "    procesador[i] = procesador[i].replace(\"Procesador:\",\"\")\r\n",
    "    procesador[i] = procesador[i].lstrip()\r\n",
    "\r\n",
    "for i in range(len(precios)):\r\n",
    "    precios[i] = precios[i].replace(\" \",\"\")\r\n",
    "    precios[i] = precios[i].replace(\"$\",\"\")\r\n",
    "    precios[i] = precios[i].replace(\".\",\"\")\r\n",
    "\r\n",
    "for i in range(len(marca)):\r\n",
    "    nombres.append(marca[i] + \" \" + modelo[i])\r\n",
    "\r\n",
    "for i in range(len(codigos)):\r\n",
    "    codigos[i] = codigos[i].replace(\"ID \",\"\")\r\n",
    "    "
   ],
   "outputs": [],
   "metadata": {}
  },
  {
   "cell_type": "code",
   "execution_count": 101,
   "source": [
    "precios"
   ],
   "outputs": [
    {
     "output_type": "execute_result",
     "data": {
      "text/plain": [
       "['219990',\n",
       " '299990',\n",
       " '309990',\n",
       " '329990',\n",
       " '369990',\n",
       " '389990',\n",
       " '399990',\n",
       " '409990',\n",
       " '436490',\n",
       " '439990',\n",
       " '449990',\n",
       " '449990',\n",
       " '479990',\n",
       " '533490',\n",
       " '562590',\n",
       " '562590',\n",
       " '562590',\n",
       " '581990',\n",
       " '639990',\n",
       " '709990',\n",
       " '727490',\n",
       " '756590',\n",
       " '769990',\n",
       " '775990',\n",
       " '779990',\n",
       " '789990',\n",
       " '799990',\n",
       " '809990',\n",
       " '829990',\n",
       " '829990',\n",
       " '872990',\n",
       " '892390',\n",
       " '899990',\n",
       " '929990',\n",
       " '949990',\n",
       " '949990',\n",
       " '949990',\n",
       " '969990',\n",
       " '969990',\n",
       " '969990',\n",
       " '1099990',\n",
       " '1099990',\n",
       " '1144990',\n",
       " '1149990',\n",
       " '1163990',\n",
       " '1199990',\n",
       " '1199990',\n",
       " '1260990',\n",
       " '1309490',\n",
       " '1357990',\n",
       " '1357990',\n",
       " '1357990',\n",
       " '1449990',\n",
       " '1449990',\n",
       " '1454990',\n",
       " '1551990',\n",
       " '1699990',\n",
       " '1745990',\n",
       " '1745990',\n",
       " '1745990',\n",
       " '1765390',\n",
       " '1799990',\n",
       " '1899990',\n",
       " '1939990',\n",
       " '2649990',\n",
       " '2899990']"
      ]
     },
     "metadata": {},
     "execution_count": 101
    }
   ],
   "metadata": {}
  },
  {
   "cell_type": "code",
   "execution_count": 97,
   "source": [
    "len (codigos)"
   ],
   "outputs": [
    {
     "output_type": "execute_result",
     "data": {
      "text/plain": [
       "66"
      ]
     },
     "metadata": {},
     "execution_count": 97
    }
   ],
   "metadata": {}
  },
  {
   "cell_type": "code",
   "execution_count": 98,
   "source": [
    "codigos"
   ],
   "outputs": [
    {
     "output_type": "execute_result",
     "data": {
      "text/plain": [
       "['42710',\n",
       " '38020',\n",
       " '42189',\n",
       " '41517',\n",
       " '41940',\n",
       " '42392',\n",
       " '40077',\n",
       " '38857',\n",
       " '40958',\n",
       " '42823',\n",
       " '43015',\n",
       " '42691',\n",
       " '41554',\n",
       " '43016',\n",
       " '39661',\n",
       " '41849',\n",
       " '43264',\n",
       " '43263',\n",
       " '43061',\n",
       " '37289',\n",
       " '42359',\n",
       " '38217',\n",
       " '42048',\n",
       " '41915',\n",
       " '43062',\n",
       " '42281',\n",
       " '43186',\n",
       " '42015',\n",
       " '41518',\n",
       " '42528',\n",
       " '41914',\n",
       " '39665',\n",
       " '39513',\n",
       " '40482',\n",
       " '40890',\n",
       " '41980',\n",
       " '40893',\n",
       " '40025',\n",
       " '43063',\n",
       " '42186',\n",
       " '41903',\n",
       " '37724',\n",
       " '40894',\n",
       " '40892',\n",
       " '43074',\n",
       " '41175',\n",
       " '42282',\n",
       " '42709',\n",
       " '41852',\n",
       " '41909',\n",
       " '42708',\n",
       " '42014',\n",
       " '41174',\n",
       " '42283',\n",
       " '40625',\n",
       " '42519',\n",
       " '37442',\n",
       " '40626',\n",
       " '41443',\n",
       " '42706',\n",
       " '34826',\n",
       " '41613',\n",
       " '37443',\n",
       " '41571',\n",
       " '41076',\n",
       " '40061']"
      ]
     },
     "metadata": {},
     "execution_count": 98
    }
   ],
   "metadata": {}
  },
  {
   "cell_type": "code",
   "execution_count": null,
   "source": [],
   "outputs": [],
   "metadata": {}
  }
 ],
 "metadata": {
  "orig_nbformat": 4,
  "language_info": {
   "name": "python",
   "version": "3.8.8",
   "mimetype": "text/x-python",
   "codemirror_mode": {
    "name": "ipython",
    "version": 3
   },
   "pygments_lexer": "ipython3",
   "nbconvert_exporter": "python",
   "file_extension": ".py"
  },
  "kernelspec": {
   "name": "python3",
   "display_name": "Python 3.8.8 64-bit ('base': conda)"
  },
  "interpreter": {
   "hash": "b3ba2566441a7c06988d0923437866b63cedc61552a5af99d1f4fb67d367b25f"
  }
 },
 "nbformat": 4,
 "nbformat_minor": 2
}