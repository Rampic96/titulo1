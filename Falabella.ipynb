{
 "cells": [
  {
   "cell_type": "code",
   "execution_count": 9,
   "source": [
    "import random\r\n",
    "from time import sleep\r\n",
    "from selenium import webdriver  \r\n",
    "from webdriver_manager.chrome import ChromeDriverManager\r\n",
    "\r\n",
    "driver = webdriver.Chrome(ChromeDriverManager().install())\r\n"
   ],
   "outputs": [
    {
     "output_type": "stream",
     "name": "stderr",
     "text": [
      "\n",
      "\n",
      "====== WebDriver manager ======\n",
      "Current google-chrome version is 93.0.4577\n",
      "Get LATEST driver version for 93.0.4577\n",
      "Driver [C:\\Users\\ruribeg\\.wdm\\drivers\\chromedriver\\win32\\93.0.4577.63\\chromedriver.exe] found in cache\n"
     ]
    }
   ],
   "metadata": {}
  },
  {
   "cell_type": "code",
   "execution_count": 10,
   "source": [
    "##Obtención de urls de cada una de las pagina del sitio web para la navegación de notebooks\r\n",
    "url_base=[]\r\n",
    "for i in range(1,3):\r\n",
    "    url = \"https://www.falabella.com/falabella-cl/category/cat2028/Notebooks-Gamers?page=\"+str(i)\r\n",
    "    url_base.append(url)"
   ],
   "outputs": [],
   "metadata": {}
  },
  {
   "cell_type": "code",
   "execution_count": 11,
   "source": [
    "##Obtención de urls de cada uno de los notebooks del sitio para la posterior navegación en cada uno de ellos\r\n",
    "url_notebooks=[]\r\n",
    "for url in url_base:\r\n",
    "    driver.get(url)\r\n",
    "    notebook = driver.find_elements_by_xpath('//div[@class=\"jsx-4001457643 search-results-list\"]')\r\n",
    "    for i in notebook:\r\n",
    "        link = i.find_element_by_tag_name('a').get_attribute('href')\r\n",
    "        url_notebooks.append(link)"
   ],
   "outputs": [],
   "metadata": {}
  },
  {
   "cell_type": "code",
   "execution_count": 12,
   "source": [
    "marca = []\r\n",
    "nombre_equipo = []\r\n",
    "modelo = []\r\n",
    "procesador = []\r\n",
    "almacenamiento = []\r\n",
    "codigo = []\r\n",
    "ram = []\r\n",
    "precios = []\r\n",
    "for i in url_notebooks:\r\n",
    "    nombre = []\r\n",
    "    valor = []\r\n",
    "    driver.get(i)\r\n",
    "    boton = driver.find_element_by_xpath('//button[@class=\"jsx-3459521287 mkp-swatchButton mkp-swatchButton-collapseButton\"]').click()\r\n",
    "    sleep(random.uniform(4,5))\r\n",
    "    nombre_aux = driver.find_element_by_xpath('//div[@class=\"jsx-3686231685 product-name fa--product-name\"]').text\r\n",
    "    elementos = driver.find_elements_by_xpath('//tr[@class=\"jsx-428502957\"]')\r\n",
    "    try:\r\n",
    "        precio = driver.find_element_by_xpath('//span[@class=\"copy12 primary  jsx-340449923 normal    \"]').text\r\n",
    "        \r\n",
    "    except:\r\n",
    "        try:\r\n",
    "            precio = driver.find_element_by_xpath('//span[@class=\"copy10 primary  jsx-340449923 normal    \"]').text\r\n",
    "\r\n",
    "        except:\r\n",
    "            precio = driver.find_element_by_xpath('//span[@class=\"copy12 primary  jsx-2612542277 normal     \"]').text\r\n",
    "    codigos = driver.find_element_by_xpath('//span[@class=\"jsx-3408573263\"]').text\r\n",
    "    for j in elementos:\r\n",
    "        \r\n",
    "        nombres = j.find_element_by_xpath('.//td[@class=\"jsx-428502957 property-name\"]').text\r\n",
    "        valores = j.find_element_by_xpath('.//td[@class=\"jsx-428502957 property-value\"]').text\r\n",
    "        nombre.append(nombres)\r\n",
    "        valor.append(valores)\r\n",
    "    \r\n",
    "    if(\"Procesador\" in nombre)==True:\r\n",
    "        index_procesador = nombre.index(\"Procesador\")\r\n",
    "        procesador.append(valor[index_procesador].upper())\r\n",
    "        \r\n",
    "    if(\"Procesador\" in nombre)==False:\r\n",
    "        procesador.append(\"Procesador no encontrado\")\r\n",
    "        \r\n",
    "    if(\"Unidad de estado sólido SSD\" in nombre)==True:\r\n",
    "        index_almacenamiento = nombre.index(\"Unidad de estado sólido SSD\")\r\n",
    "        almacenamiento.append(valor[index_almacenamiento].upper())\r\n",
    "        \r\n",
    "    if(\"Unidad de estado sólido SSD\" in nombre)==False:\r\n",
    "        almacenamiento.append(\"Almacenamiento no encontrado\")\r\n",
    "        \r\n",
    "    if(\"Memoria RAM\" in nombre)==True:\r\n",
    "        index_ram= nombre.index(\"Memoria RAM\")\r\n",
    "        ram.append(valor[index_ram].upper())\r\n",
    "        \r\n",
    "    if(\"Memoria RAM\" in nombre)==False:\r\n",
    "        ram.append(\"Memoria Ram no encontrada\") \r\n",
    "        \r\n",
    "    \r\n",
    "    precios.append(precio)\r\n",
    "    codigo.append(codigos)\r\n",
    "    nombre_equipo.append(nombre_aux)\r\n",
    "        \r\n",
    "        "
   ],
   "outputs": [],
   "metadata": {}
  },
  {
   "cell_type": "code",
   "execution_count": null,
   "source": [
    "for i in range(len(precios)):\r\n",
    "    precios[i] = precios[i].replace(\" \", \"\")\r\n",
    "    precios[i] = precios[i].replace(\"$\", \"\")\r\n",
    "    precios[i] = precios[i].replace(\".\", \"\")\r\n",
    "\r\n",
    "for i in range(len(codigo)):\r\n",
    "    codigo[i] = codigo[i].replace(\"Código del producto: \",\"\")"
   ],
   "outputs": [],
   "metadata": {}
  },
  {
   "cell_type": "code",
   "execution_count": null,
   "source": [
    "codigo"
   ],
   "outputs": [
    {
     "output_type": "execute_result",
     "data": {
      "text/plain": [
       "['15059525',\n",
       " '15016083',\n",
       " '15261226',\n",
       " '15160163',\n",
       " '15059492',\n",
       " '15219714',\n",
       " '11135800',\n",
       " '15331812',\n",
       " '15219747',\n",
       " '15261225',\n",
       " '14449258',\n",
       " '15220657',\n",
       " '11235824',\n",
       " '15261223',\n",
       " '14449248',\n",
       " '14954807',\n",
       " '15261222',\n",
       " '11236440',\n",
       " '14954804',\n",
       " '15320552',\n",
       " '15360016',\n",
       " '15402356',\n",
       " '13781047',\n",
       " '11235697',\n",
       " '11478673',\n",
       " '14984188',\n",
       " '14921855',\n",
       " '14550700',\n",
       " '11235938',\n",
       " '13766448',\n",
       " '8116897',\n",
       " '14624679']"
      ]
     },
     "metadata": {},
     "execution_count": 9
    }
   ],
   "metadata": {}
  },
  {
   "cell_type": "code",
   "execution_count": null,
   "source": [],
   "outputs": [],
   "metadata": {}
  }
 ],
 "metadata": {
  "interpreter": {
   "hash": "b3ba2566441a7c06988d0923437866b63cedc61552a5af99d1f4fb67d367b25f"
  },
  "kernelspec": {
   "name": "python3",
   "display_name": "Python 3.8.8 64-bit ('base': conda)"
  },
  "language_info": {
   "codemirror_mode": {
    "name": "ipython",
    "version": 3
   },
   "file_extension": ".py",
   "mimetype": "text/x-python",
   "name": "python",
   "nbconvert_exporter": "python",
   "pygments_lexer": "ipython3",
   "version": "3.8.8"
  }
 },
 "nbformat": 4,
 "nbformat_minor": 5
}