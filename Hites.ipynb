{
 "cells": [
  {
   "cell_type": "code",
   "execution_count": 1,
   "metadata": {},
   "outputs": [],
   "source": [
    "from bs4 import BeautifulSoup\n",
    "import requests\n",
    "import pandas as pd\n",
    "import sys\n",
    "import numpy"
   ]
  },
  {
   "cell_type": "code",
   "execution_count": 2,
   "metadata": {},
   "outputs": [],
   "source": [
    "url = \"https://www.hites.com/tecnologia/computacion/notebook/?start=0&sz=70\"\n",
    "\n"
   ]
  },
  {
   "cell_type": "code",
   "execution_count": 3,
   "metadata": {},
   "outputs": [],
   "source": [
    "response = requests.get(url)\n"
   ]
  },
  {
   "cell_type": "code",
   "execution_count": 4,
   "metadata": {},
   "outputs": [],
   "source": [
    "data = response.text\n"
   ]
  },
  {
   "cell_type": "code",
   "execution_count": 5,
   "metadata": {},
   "outputs": [],
   "source": [
    "soup = BeautifulSoup(data,\"html.parser\")\n"
   ]
  },
  {
   "cell_type": "code",
   "execution_count": 6,
   "metadata": {},
   "outputs": [],
   "source": [
    "bloque = soup.find_all(\"div\",{\"class\":\"col-6 col-lg-4 px-0\"})\n"
   ]
  },
  {
   "cell_type": "code",
   "execution_count": 7,
   "metadata": {},
   "outputs": [],
   "source": [
    "\n",
    "\n",
    "nombres = list()\n",
    "precioaux = list()\n",
    "precio = list()\n",
    "codigos = list()\n",
    "encontrarindice = list()\n",
    "caracteristica = list()\n",
    "almacenamientoaux = list()\n",
    "almacenamiento = list()\n",
    "procesadoraux = list()\n",
    "procesador = list()\n",
    "ramaux = list()\n",
    "ram = list()\n",
    "precios = list()\n",
    "\n",
    "for i in bloque:\n",
    "    nombre = i.find(\"a\",{\"class\":\"link product-name\"})\n",
    "    caract = i.find_all(\"li\",{\"class\":\"attribute-values\"})\n",
    "    precios = i.find(\"span\",{\"class\":\"value\"})\n",
    "    codigo = i.find(\"span\",{\"class\":\"d-block product-sku\"})\n",
    "    nombres.append(nombre.text)\n",
    "    caracteristica.append(caract)  \n",
    "    precioaux.append(precios.text)\n",
    "    codigos.append(codigo.text)\n",
    "    "
   ]
  },
  {
   "cell_type": "code",
   "execution_count": 8,
   "metadata": {},
   "outputs": [],
   "source": [
    "\n",
    "\"\"\"\"Obtener cada elemento de almacenamiento, memoria ram y procesador definiendo un valor auxiliar \n",
    "    para almacenamiento en caso de no encontrarse en la pagina\"\"\"\n",
    "for i in range(len(caracteristica)):\n",
    "    if (len(caracteristica[i])==2):\n",
    "        almacenamientoaux.append(caracteristica[i][0])\n",
    "        ramaux.append(caracteristica[i][0])\n",
    "        procesadoraux.append(caracteristica[i][1])\n",
    "        \n",
    "    else:\n",
    "        almacenamientoaux.append(caracteristica[i][0])\n",
    "        ramaux.append(caracteristica[i][1])\n",
    "        procesadoraux.append(caracteristica[i][2])\n",
    "\n",
    "#Insertar elementos de procesador y memoria ram en las listas como texto, en el caso de almacenamiento como str\n",
    "for i in range(len(almacenamientoaux)):\n",
    "    if(type(almacenamientoaux[i]==str)):\n",
    "        almacenamiento.append(almacenamientoaux[i])\n",
    "        procesador.append(procesadoraux[i].text)\n",
    "        ram.append(ramaux[i].text)\n",
    "        \n",
    "    else:\n",
    "        almacenamiento.append(almacenamientoaux[i].text)\n",
    "        procesador.append(procesadoraux[i].text)\n",
    "        ram.append(ramaux[i].text)  \n",
    "\n",
    "#Modificar los elementos de almacenamiento a formato text\n",
    "for i in range(len(almacenamiento)):\n",
    "    almacenamiento[i] = almacenamiento[i].text\n",
    "    \n",
    "\n",
    "#Modicar valor auxiliar de almacenamiento en caso de que no se encontrará en la pagina          \n",
    "for i in range(len(almacenamiento)):\n",
    "    if ('RAM' in almacenamiento[i])==True:\n",
    "        almacenamiento[i]=\"Almacenamiento no especificado\"\n",
    "        \n",
    "#Reemplazar los saltos de linea del formato text a expacios en blanco para obtener solo los datos deseados\n",
    "for i in range(len(caracteristica)):\n",
    "    almacenamiento[i] = almacenamiento[i].replace('\\n','')\n",
    "    ram[i] = ram[i].replace('\\n','')\n",
    "    procesador[i] = procesador[i].replace('\\n','')\n",
    "\n",
    "#Encontrar el indice del primer slash para poder separar el nombre original sin los componentes\n",
    "for i in range(len(nombres)):\n",
    "    encontrarindice.append(nombres[i].find(\"/\"))\n",
    "\n",
    "#Dejar solo el nombre de los notebooks dentro de la lista\n",
    "for i in range(len(nombres)):\n",
    "    nombres[i] = nombres[i][0:encontrarindice[i]-1]\n",
    "    \n",
    "#Eliminación de caracteres especiales\n",
    "for i in range(len(precioaux)):\n",
    "    precioaux[i] = precioaux[i].replace(\"Price reduced from\", \"\")\n",
    "    precioaux[i] = precioaux[i].replace(\"\\n\",\"\")\n",
    "    precioaux[i] = precioaux[i].replace(\"to\",\"\")\n",
    "    precioaux[i] = precioaux[i].replace(\"$\",\"\")\n",
    "    precioaux[i] = precioaux[i].replace(\".\",\"\")\n",
    "    precioaux[i] = precioaux[i].replace(\"Normal\",\"\")\n",
    "    precioaux[i] = precioaux[i].replace(\"Oferta\",\"\")\n",
    "    precio.append(precioaux[i])\n",
    "    \n",
    "for i in range(len(almacenamiento)):\n",
    "    almacenamiento[i] = almacenamiento[i].replace(\"Almacenamiento:\", \"\")\n",
    "    \n",
    "for i in range(len(procesador)):\n",
    "    procesador[i] = procesador[i].replace(\"Procesador:\", \"\")\n",
    "    \n",
    "for i in range(len(ram)):\n",
    "    ram[i] = ram[i].replace(\"Memoria RAM:\", \"\")\n",
    "\n",
    "for i in range(len(codigos)):\n",
    "    codigos[i] = codigos[i].replace(\"Código: \", \"\")\n",
    "    codigos[i] = codigos[i].replace(\"\\n\",\"\")    "
   ]
  },
  {
   "cell_type": "code",
   "execution_count": 9,
   "metadata": {},
   "outputs": [],
   "source": [
    "df = pd.DataFrame()"
   ]
  },
  {
   "cell_type": "code",
   "execution_count": 10,
   "metadata": {},
   "outputs": [],
   "source": [
    "df = pd.DataFrame(columns=['Nombre', 'Codigo', 'Almacenamiento', 'Procesador', 'Memoria Ram', 'Precio'])"
   ]
  },
  {
   "cell_type": "code",
   "execution_count": 11,
   "metadata": {},
   "outputs": [],
   "source": [
    "for i in range(len(caracteristica)):\n",
    "    df = df.append({'Nombre': nombres[i], 'Codigo':codigos[i], 'Almacenamiento':almacenamiento[i],'Procesador':procesador[i], 'Memoria Ram':ram[i], 'Precio':precio[i]},ignore_index=True)"
   ]
  },
  {
   "cell_type": "code",
   "execution_count": 12,
   "metadata": {},
   "outputs": [],
   "source": [
    "df['Nombre'] = df['Nombre'].astype(str)\n",
    "df['Almacenamiento'] = df['Almacenamiento'].astype('str')\n",
    "df['Procesador'] = df['Procesador'].astype(str)\n",
    "df['Memoria Ram'] = df['Memoria Ram'].astype(str)\n",
    "df['Precio'] = df['Precio'].astype(str).astype(int)\n",
    "df['Codigo'] = df['Codigo'].astype(str).astype(int)"
   ]
  },
  {
   "cell_type": "code",
   "execution_count": 13,
   "metadata": {},
   "outputs": [
    {
     "ename": "TypeError",
     "evalue": "can't multiply sequence by non-int of type 'str'",
     "output_type": "error",
     "traceback": [
      "\u001b[1;31m---------------------------------------------------------------------------\u001b[0m",
      "\u001b[1;31mTypeError\u001b[0m                                 Traceback (most recent call last)",
      "\u001b[1;32m<ipython-input-13-6e128a7e505c>\u001b[0m in \u001b[0;36m<module>\u001b[1;34m\u001b[0m\n\u001b[0;32m      1\u001b[0m \u001b[0mnombre\u001b[0m \u001b[1;33m=\u001b[0m \u001b[1;34m'Prueba'\u001b[0m\u001b[1;33m\u001b[0m\u001b[1;33m\u001b[0m\u001b[0m\n\u001b[1;32m----> 2\u001b[1;33m \u001b[0mdf\u001b[0m\u001b[1;33m.\u001b[0m\u001b[0mto_csv\u001b[0m\u001b[1;33m(\u001b[0m\u001b[0mnombre\u001b[0m\u001b[1;33m*\u001b[0m\u001b[1;34m'Hites_Oficial.csv'\u001b[0m\u001b[1;33m)\u001b[0m\u001b[1;33m\u001b[0m\u001b[1;33m\u001b[0m\u001b[0m\n\u001b[0m",
      "\u001b[1;31mTypeError\u001b[0m: can't multiply sequence by non-int of type 'str'"
     ]
    }
   ],
   "source": [
    "nombre = 'Prueba'\n",
    "df.to_csv('Hites_Oficial.csv')"
   ]
  },
  {
   "cell_type": "code",
   "execution_count": 14,
   "metadata": {},
   "outputs": [
    {
     "ename": "FileNotFoundError",
     "evalue": "[Errno 2] No such file or directory: 'C:\\\\Users\\\\ramir\\\\Escritorio\\\\Hites.xlsx'",
     "output_type": "error",
     "traceback": [
      "\u001b[1;31m---------------------------------------------------------------------------\u001b[0m",
      "\u001b[1;31mFileNotFoundError\u001b[0m                         Traceback (most recent call last)",
      "\u001b[1;32m<ipython-input-14-82a313c06f23>\u001b[0m in \u001b[0;36m<module>\u001b[1;34m\u001b[0m\n\u001b[1;32m----> 1\u001b[1;33m \u001b[0mdf\u001b[0m\u001b[1;33m.\u001b[0m\u001b[0mto_excel\u001b[0m\u001b[1;33m(\u001b[0m\u001b[1;34mr'C:\\Users\\ramir\\Escritorio\\Hites.xlsx'\u001b[0m\u001b[1;33m,\u001b[0m \u001b[0mindex\u001b[0m \u001b[1;33m=\u001b[0m \u001b[1;32mFalse\u001b[0m\u001b[1;33m,\u001b[0m \u001b[0mheader\u001b[0m\u001b[1;33m=\u001b[0m\u001b[1;32mTrue\u001b[0m\u001b[1;33m)\u001b[0m\u001b[1;33m\u001b[0m\u001b[1;33m\u001b[0m\u001b[0m\n\u001b[0m",
      "\u001b[1;32mC:\\ProgramData\\Anaconda3\\lib\\site-packages\\pandas\\core\\generic.py\u001b[0m in \u001b[0;36mto_excel\u001b[1;34m(self, excel_writer, sheet_name, na_rep, float_format, columns, header, index, index_label, startrow, startcol, engine, merge_cells, encoding, inf_rep, verbose, freeze_panes, storage_options)\u001b[0m\n\u001b[0;32m   2187\u001b[0m             \u001b[0minf_rep\u001b[0m\u001b[1;33m=\u001b[0m\u001b[0minf_rep\u001b[0m\u001b[1;33m,\u001b[0m\u001b[1;33m\u001b[0m\u001b[1;33m\u001b[0m\u001b[0m\n\u001b[0;32m   2188\u001b[0m         )\n\u001b[1;32m-> 2189\u001b[1;33m         formatter.write(\n\u001b[0m\u001b[0;32m   2190\u001b[0m             \u001b[0mexcel_writer\u001b[0m\u001b[1;33m,\u001b[0m\u001b[1;33m\u001b[0m\u001b[1;33m\u001b[0m\u001b[0m\n\u001b[0;32m   2191\u001b[0m             \u001b[0msheet_name\u001b[0m\u001b[1;33m=\u001b[0m\u001b[0msheet_name\u001b[0m\u001b[1;33m,\u001b[0m\u001b[1;33m\u001b[0m\u001b[1;33m\u001b[0m\u001b[0m\n",
      "\u001b[1;32mC:\\ProgramData\\Anaconda3\\lib\\site-packages\\pandas\\io\\formats\\excel.py\u001b[0m in \u001b[0;36mwrite\u001b[1;34m(self, writer, sheet_name, startrow, startcol, freeze_panes, engine, storage_options)\u001b[0m\n\u001b[0;32m    813\u001b[0m             \u001b[1;31m# abstract class 'ExcelWriter' with abstract attributes 'engine',\u001b[0m\u001b[1;33m\u001b[0m\u001b[1;33m\u001b[0m\u001b[1;33m\u001b[0m\u001b[0m\n\u001b[0;32m    814\u001b[0m             \u001b[1;31m# 'save', 'supported_extensions' and 'write_cells'  [abstract]\u001b[0m\u001b[1;33m\u001b[0m\u001b[1;33m\u001b[0m\u001b[1;33m\u001b[0m\u001b[0m\n\u001b[1;32m--> 815\u001b[1;33m             writer = ExcelWriter(  # type: ignore[abstract]\n\u001b[0m\u001b[0;32m    816\u001b[0m                 \u001b[0mwriter\u001b[0m\u001b[1;33m,\u001b[0m \u001b[0mengine\u001b[0m\u001b[1;33m=\u001b[0m\u001b[0mengine\u001b[0m\u001b[1;33m,\u001b[0m \u001b[0mstorage_options\u001b[0m\u001b[1;33m=\u001b[0m\u001b[0mstorage_options\u001b[0m\u001b[1;33m\u001b[0m\u001b[1;33m\u001b[0m\u001b[0m\n\u001b[0;32m    817\u001b[0m             )\n",
      "\u001b[1;32mC:\\ProgramData\\Anaconda3\\lib\\site-packages\\pandas\\io\\excel\\_xlsxwriter.py\u001b[0m in \u001b[0;36m__init__\u001b[1;34m(self, path, engine, date_format, datetime_format, mode, storage_options, **engine_kwargs)\u001b[0m\n\u001b[0;32m    180\u001b[0m             \u001b[1;32mraise\u001b[0m \u001b[0mValueError\u001b[0m\u001b[1;33m(\u001b[0m\u001b[1;34m\"Append mode is not supported with xlsxwriter!\"\u001b[0m\u001b[1;33m)\u001b[0m\u001b[1;33m\u001b[0m\u001b[1;33m\u001b[0m\u001b[0m\n\u001b[0;32m    181\u001b[0m \u001b[1;33m\u001b[0m\u001b[0m\n\u001b[1;32m--> 182\u001b[1;33m         super().__init__(\n\u001b[0m\u001b[0;32m    183\u001b[0m             \u001b[0mpath\u001b[0m\u001b[1;33m,\u001b[0m\u001b[1;33m\u001b[0m\u001b[1;33m\u001b[0m\u001b[0m\n\u001b[0;32m    184\u001b[0m             \u001b[0mengine\u001b[0m\u001b[1;33m=\u001b[0m\u001b[0mengine\u001b[0m\u001b[1;33m,\u001b[0m\u001b[1;33m\u001b[0m\u001b[1;33m\u001b[0m\u001b[0m\n",
      "\u001b[1;32mC:\\ProgramData\\Anaconda3\\lib\\site-packages\\pandas\\io\\excel\\_base.py\u001b[0m in \u001b[0;36m__init__\u001b[1;34m(self, path, engine, date_format, datetime_format, mode, storage_options, **engine_kwargs)\u001b[0m\n\u001b[0;32m    808\u001b[0m         \u001b[0mself\u001b[0m\u001b[1;33m.\u001b[0m\u001b[0mhandles\u001b[0m \u001b[1;33m=\u001b[0m \u001b[0mIOHandles\u001b[0m\u001b[1;33m(\u001b[0m\u001b[0mcast\u001b[0m\u001b[1;33m(\u001b[0m\u001b[0mBuffer\u001b[0m\u001b[1;33m,\u001b[0m \u001b[0mpath\u001b[0m\u001b[1;33m)\u001b[0m\u001b[1;33m,\u001b[0m \u001b[0mcompression\u001b[0m\u001b[1;33m=\u001b[0m\u001b[1;33m{\u001b[0m\u001b[1;34m\"copression\"\u001b[0m\u001b[1;33m:\u001b[0m \u001b[1;32mNone\u001b[0m\u001b[1;33m}\u001b[0m\u001b[1;33m)\u001b[0m\u001b[1;33m\u001b[0m\u001b[1;33m\u001b[0m\u001b[0m\n\u001b[0;32m    809\u001b[0m         \u001b[1;32mif\u001b[0m \u001b[1;32mnot\u001b[0m \u001b[0misinstance\u001b[0m\u001b[1;33m(\u001b[0m\u001b[0mpath\u001b[0m\u001b[1;33m,\u001b[0m \u001b[0mExcelWriter\u001b[0m\u001b[1;33m)\u001b[0m\u001b[1;33m:\u001b[0m\u001b[1;33m\u001b[0m\u001b[1;33m\u001b[0m\u001b[0m\n\u001b[1;32m--> 810\u001b[1;33m             self.handles = get_handle(\n\u001b[0m\u001b[0;32m    811\u001b[0m                 \u001b[0mpath\u001b[0m\u001b[1;33m,\u001b[0m \u001b[0mmode\u001b[0m\u001b[1;33m,\u001b[0m \u001b[0mstorage_options\u001b[0m\u001b[1;33m=\u001b[0m\u001b[0mstorage_options\u001b[0m\u001b[1;33m,\u001b[0m \u001b[0mis_text\u001b[0m\u001b[1;33m=\u001b[0m\u001b[1;32mFalse\u001b[0m\u001b[1;33m\u001b[0m\u001b[1;33m\u001b[0m\u001b[0m\n\u001b[0;32m    812\u001b[0m             )\n",
      "\u001b[1;32mC:\\ProgramData\\Anaconda3\\lib\\site-packages\\pandas\\io\\common.py\u001b[0m in \u001b[0;36mget_handle\u001b[1;34m(path_or_buf, mode, encoding, compression, memory_map, is_text, errors, storage_options)\u001b[0m\n\u001b[0;32m    649\u001b[0m         \u001b[1;32melse\u001b[0m\u001b[1;33m:\u001b[0m\u001b[1;33m\u001b[0m\u001b[1;33m\u001b[0m\u001b[0m\n\u001b[0;32m    650\u001b[0m             \u001b[1;31m# Binary mode\u001b[0m\u001b[1;33m\u001b[0m\u001b[1;33m\u001b[0m\u001b[1;33m\u001b[0m\u001b[0m\n\u001b[1;32m--> 651\u001b[1;33m             \u001b[0mhandle\u001b[0m \u001b[1;33m=\u001b[0m \u001b[0mopen\u001b[0m\u001b[1;33m(\u001b[0m\u001b[0mhandle\u001b[0m\u001b[1;33m,\u001b[0m \u001b[0mioargs\u001b[0m\u001b[1;33m.\u001b[0m\u001b[0mmode\u001b[0m\u001b[1;33m)\u001b[0m\u001b[1;33m\u001b[0m\u001b[1;33m\u001b[0m\u001b[0m\n\u001b[0m\u001b[0;32m    652\u001b[0m         \u001b[0mhandles\u001b[0m\u001b[1;33m.\u001b[0m\u001b[0mappend\u001b[0m\u001b[1;33m(\u001b[0m\u001b[0mhandle\u001b[0m\u001b[1;33m)\u001b[0m\u001b[1;33m\u001b[0m\u001b[1;33m\u001b[0m\u001b[0m\n\u001b[0;32m    653\u001b[0m \u001b[1;33m\u001b[0m\u001b[0m\n",
      "\u001b[1;31mFileNotFoundError\u001b[0m: [Errno 2] No such file or directory: 'C:\\\\Users\\\\ramir\\\\Escritorio\\\\Hites.xlsx'"
     ]
    }
   ],
   "source": [
    "df.to_excel(r'C:\\Users\\ramir\\Escritorio\\Hites.xlsx', index = False, header=True)"
   ]
  },
  {
   "cell_type": "code",
   "execution_count": 15,
   "metadata": {},
   "outputs": [
    {
     "data": {
      "text/html": [
       "<div>\n",
       "<style scoped>\n",
       "    .dataframe tbody tr th:only-of-type {\n",
       "        vertical-align: middle;\n",
       "    }\n",
       "\n",
       "    .dataframe tbody tr th {\n",
       "        vertical-align: top;\n",
       "    }\n",
       "\n",
       "    .dataframe thead th {\n",
       "        text-align: right;\n",
       "    }\n",
       "</style>\n",
       "<table border=\"1\" class=\"dataframe\">\n",
       "  <thead>\n",
       "    <tr style=\"text-align: right;\">\n",
       "      <th></th>\n",
       "      <th>Nombre</th>\n",
       "      <th>Codigo</th>\n",
       "      <th>Almacenamiento</th>\n",
       "      <th>Procesador</th>\n",
       "      <th>Memoria Ram</th>\n",
       "      <th>Precio</th>\n",
       "    </tr>\n",
       "  </thead>\n",
       "  <tbody>\n",
       "    <tr>\n",
       "      <th>0</th>\n",
       "      <td>Notebook Reacondicionado Hp 14-dq1043c I3</td>\n",
       "      <td>851066001</td>\n",
       "      <td>256 Gb</td>\n",
       "      <td>Intel Core I3</td>\n",
       "      <td>8 Gb</td>\n",
       "      <td>399990</td>\n",
       "    </tr>\n",
       "    <tr>\n",
       "      <th>1</th>\n",
       "      <td>Notebook Asus M415da-ek844t</td>\n",
       "      <td>861709001</td>\n",
       "      <td>256 Gb</td>\n",
       "      <td>Amd Ryzen 3</td>\n",
       "      <td>4 Gb</td>\n",
       "      <td>459990</td>\n",
       "    </tr>\n",
       "    <tr>\n",
       "      <th>2</th>\n",
       "      <td>Notebook Gamer Lenovo Ideapad Gaming 3 15arh05</td>\n",
       "      <td>866156001</td>\n",
       "      <td>512 Gb</td>\n",
       "      <td>Amd Ryzen 5</td>\n",
       "      <td>8 Gb</td>\n",
       "      <td>799990</td>\n",
       "    </tr>\n",
       "    <tr>\n",
       "      <th>3</th>\n",
       "      <td>Notebook Hp 14-ck2091la</td>\n",
       "      <td>852613001</td>\n",
       "      <td>128 Gb</td>\n",
       "      <td>Intel Core I3</td>\n",
       "      <td>4 Gb</td>\n",
       "      <td>379990</td>\n",
       "    </tr>\n",
       "    <tr>\n",
       "      <th>4</th>\n",
       "      <td>Notebook Hp Pavilion X360 Convertible 14-dy0002la</td>\n",
       "      <td>861802001</td>\n",
       "      <td>256 Gb</td>\n",
       "      <td>Intel Pentium</td>\n",
       "      <td>4 Gb</td>\n",
       "      <td>544990</td>\n",
       "    </tr>\n",
       "    <tr>\n",
       "      <th>...</th>\n",
       "      <td>...</td>\n",
       "      <td>...</td>\n",
       "      <td>...</td>\n",
       "      <td>...</td>\n",
       "      <td>...</td>\n",
       "      <td>...</td>\n",
       "    </tr>\n",
       "    <tr>\n",
       "      <th>65</th>\n",
       "      <td>Notebook Lenovo Ideapad S145-14ast</td>\n",
       "      <td>840418001</td>\n",
       "      <td>500 Gb</td>\n",
       "      <td>Amd A4</td>\n",
       "      <td>4 Gb</td>\n",
       "      <td>349990</td>\n",
       "    </tr>\n",
       "    <tr>\n",
       "      <th>66</th>\n",
       "      <td>Notebook Msi Modern 14 B10mw-258cl</td>\n",
       "      <td>867618001</td>\n",
       "      <td>256 Gb</td>\n",
       "      <td>Intel Core I5</td>\n",
       "      <td>8 Gb</td>\n",
       "      <td>909990</td>\n",
       "    </tr>\n",
       "    <tr>\n",
       "      <th>67</th>\n",
       "      <td>Notebook Gamer Hp Pavilion 15-dk1028la</td>\n",
       "      <td>861804001</td>\n",
       "      <td>256 Gb</td>\n",
       "      <td>Intel Core I5</td>\n",
       "      <td>8 Gb</td>\n",
       "      <td>929990</td>\n",
       "    </tr>\n",
       "    <tr>\n",
       "      <th>68</th>\n",
       "      <td>Notebook Asus X415ea-eb742t</td>\n",
       "      <td>861710001</td>\n",
       "      <td>512 Gb</td>\n",
       "      <td>Intel Core I7</td>\n",
       "      <td>8 Gb</td>\n",
       "      <td>779990</td>\n",
       "    </tr>\n",
       "    <tr>\n",
       "      <th>69</th>\n",
       "      <td>Notebook Lenovo Ideapad 3 14itl6</td>\n",
       "      <td>859254001</td>\n",
       "      <td>512 Gb</td>\n",
       "      <td>Intel Core I7</td>\n",
       "      <td>8 Gb</td>\n",
       "      <td>869990</td>\n",
       "    </tr>\n",
       "  </tbody>\n",
       "</table>\n",
       "<p>70 rows × 6 columns</p>\n",
       "</div>"
      ],
      "text/plain": [
       "                                               Nombre     Codigo  \\\n",
       "0           Notebook Reacondicionado Hp 14-dq1043c I3  851066001   \n",
       "1                         Notebook Asus M415da-ek844t  861709001   \n",
       "2      Notebook Gamer Lenovo Ideapad Gaming 3 15arh05  866156001   \n",
       "3                             Notebook Hp 14-ck2091la  852613001   \n",
       "4   Notebook Hp Pavilion X360 Convertible 14-dy0002la  861802001   \n",
       "..                                                ...        ...   \n",
       "65                 Notebook Lenovo Ideapad S145-14ast  840418001   \n",
       "66                 Notebook Msi Modern 14 B10mw-258cl  867618001   \n",
       "67             Notebook Gamer Hp Pavilion 15-dk1028la  861804001   \n",
       "68                        Notebook Asus X415ea-eb742t  861710001   \n",
       "69                   Notebook Lenovo Ideapad 3 14itl6  859254001   \n",
       "\n",
       "   Almacenamiento      Procesador Memoria Ram  Precio  \n",
       "0          256 Gb   Intel Core I3        8 Gb  399990  \n",
       "1          256 Gb     Amd Ryzen 3        4 Gb  459990  \n",
       "2          512 Gb     Amd Ryzen 5        8 Gb  799990  \n",
       "3          128 Gb   Intel Core I3        4 Gb  379990  \n",
       "4          256 Gb   Intel Pentium        4 Gb  544990  \n",
       "..            ...             ...         ...     ...  \n",
       "65         500 Gb          Amd A4        4 Gb  349990  \n",
       "66         256 Gb   Intel Core I5        8 Gb  909990  \n",
       "67         256 Gb   Intel Core I5        8 Gb  929990  \n",
       "68         512 Gb   Intel Core I7        8 Gb  779990  \n",
       "69         512 Gb   Intel Core I7        8 Gb  869990  \n",
       "\n",
       "[70 rows x 6 columns]"
      ]
     },
     "execution_count": 15,
     "metadata": {},
     "output_type": "execute_result"
    }
   ],
   "source": [
    "df"
   ]
  },
  {
   "cell_type": "code",
   "execution_count": null,
   "metadata": {},
   "outputs": [],
   "source": []
  }
 ],
 "metadata": {
  "interpreter": {
   "hash": "07efdcd4b820c98a756949507a4d29d7862823915ec7477944641bea022f4f62"
  },
  "kernelspec": {
   "display_name": "Python 3",
   "language": "python",
   "name": "python3"
  },
  "language_info": {
   "codemirror_mode": {
    "name": "ipython",
    "version": 3
   },
   "file_extension": ".py",
   "mimetype": "text/x-python",
   "name": "python",
   "nbconvert_exporter": "python",
   "pygments_lexer": "ipython3",
   "version": "3.8.8"
  }
 },
 "nbformat": 4,
 "nbformat_minor": 4
}
