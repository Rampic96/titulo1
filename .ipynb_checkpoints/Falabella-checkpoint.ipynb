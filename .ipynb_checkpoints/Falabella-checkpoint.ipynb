{
 "cells": [
  {
   "cell_type": "code",
   "execution_count": 1,
   "id": "53b58ee6",
   "metadata": {},
   "outputs": [
    {
     "name": "stderr",
     "output_type": "stream",
     "text": [
      "\n",
      "\n",
      "====== WebDriver manager ======\n",
      "Current google-chrome version is 93.0.4577\n",
      "Get LATEST driver version for 93.0.4577\n",
      "Driver [C:\\Users\\ruribeg\\.wdm\\drivers\\chromedriver\\win32\\93.0.4577.15\\chromedriver.exe] found in cache\n"
     ]
    }
   ],
   "source": [
    "import random\n",
    "from time import sleep\n",
    "from selenium import webdriver  \n",
    "from webdriver_manager.chrome import ChromeDriverManager\n",
    "\n",
    "driver = webdriver.Chrome(ChromeDriverManager().install())\n"
   ]
  },
  {
   "cell_type": "code",
   "execution_count": 2,
   "id": "81f79342",
   "metadata": {},
   "outputs": [],
   "source": [
    "##Obtención de urls de cada una de las pagina del sitio web para la navegación de notebooks\n",
    "url_base=[]\n",
    "for i in range(1,3):\n",
    "    url = \"https://www.falabella.com/falabella-cl/category/cat2028/Notebooks-Gamers?page=\"+str(i)\n",
    "    url_base.append(url)"
   ]
  },
  {
   "cell_type": "code",
   "execution_count": 3,
   "id": "b2582a22",
   "metadata": {},
   "outputs": [],
   "source": [
    "##Obtención de urls de cada uno de los notebooks del sitio para la posterior navegación en cada uno de ellos\n",
    "url_notebooks=[]\n",
    "for url in url_base:\n",
    "    driver.get(url)\n",
    "    notebook = driver.find_elements_by_xpath('//div[@class=\"jsx-4001457643 search-results-list\"]')\n",
    "    for i in notebook:\n",
    "        link = i.find_element_by_tag_name('a').get_attribute('href')\n",
    "        url_notebooks.append(link)"
   ]
  },
  {
   "cell_type": "code",
   "execution_count": 4,
   "id": "99692cf0",
   "metadata": {},
   "outputs": [],
   "source": [
    "marca = []\n",
    "nombre_equipo = []\n",
    "modelo = []\n",
    "procesador = []\n",
    "almacenamiento = []\n",
    "codigo = []\n",
    "ram = []\n",
    "precios = []\n",
    "for i in url_notebooks:\n",
    "    nombre = []\n",
    "    valor = []\n",
    "    driver.get(i)\n",
    "    boton = driver.find_element_by_xpath('//button[@class=\"jsx-3459521287 mkp-swatchButton mkp-swatchButton-collapseButton\"]').click()\n",
    "    sleep(random.uniform(4,5))\n",
    "    nombre_aux = driver.find_element_by_xpath('//div[@class=\"jsx-3686231685 product-name fa--product-name\"]').text\n",
    "    elementos = driver.find_elements_by_xpath('//tr[@class=\"jsx-428502957\"]')\n",
    "    try:\n",
    "        precio = driver.find_element_by_xpath('//span[@class=\"copy12 primary  jsx-340449923 normal    \"]').text\n",
    "        \n",
    "    except:\n",
    "        precio = driver.find_element_by_xpath('//span[@class=\"copy10 primary  jsx-340449923 normal    \"]').text\n",
    "        \n",
    "    codigos = driver.find_element_by_xpath('//span[@class=\"jsx-3408573263\"]').text\n",
    "    for j in elementos:\n",
    "        \n",
    "        nombres = j.find_element_by_xpath('.//td[@class=\"jsx-428502957 property-name\"]').text\n",
    "        valores = j.find_element_by_xpath('.//td[@class=\"jsx-428502957 property-value\"]').text\n",
    "        nombre.append(nombres)\n",
    "        valor.append(valores)\n",
    "    \n",
    "    if(\"Procesador\" in nombre)==True:\n",
    "        index_procesador = nombre.index(\"Procesador\")\n",
    "        procesador.append(valor[index_procesador].upper())\n",
    "        \n",
    "    if(\"Procesador\" in nombre)==False:\n",
    "        procesador.append(\"Procesador no encontrado\")\n",
    "        \n",
    "    if(\"Unidad de estado sólido SSD\" in nombre)==True:\n",
    "        index_almacenamiento = nombre.index(\"Unidad de estado sólido SSD\")\n",
    "        almacenamiento.append(valor[index_almacenamiento].upper())\n",
    "        \n",
    "    if(\"Unidad de estado sólido SSD\" in nombre)==False:\n",
    "        almacenamiento.append(\"Almacenamiento no encontrado\")\n",
    "        \n",
    "    if(\"Memoria RAM\" in nombre)==True:\n",
    "        index_ram= nombre.index(\"Memoria RAM\")\n",
    "        ram.append(valor[index_ram].upper())\n",
    "        \n",
    "    if(\"Memoria RAM\" in nombre)==False:\n",
    "        ram.append(\"Memoria Ram no encontrada\") \n",
    "        \n",
    "    \n",
    "    precios.append(precio)\n",
    "    codigo.append(codigos)\n",
    "    nombre_equipo.append(nombre_aux)\n",
    "        \n",
    "        "
   ]
  },
  {
   "cell_type": "code",
   "execution_count": 8,
   "id": "0c7b0643",
   "metadata": {},
   "outputs": [],
   "source": [
    "for i in range(len(precios)):\n",
    "    precios[i] = precios[i].replace(\" \", \"\")\n",
    "    precios[i] = precios[i].replace(\"$\", \"\")\n",
    "    precios[i] = precios[i].replace(\".\", \"\")\n",
    "\n",
    "for i in range(len(codigo)):\n",
    "    codigo[i] = codigo[i].replace(\"Código del producto: \",\"\")"
   ]
  },
  {
   "cell_type": "code",
   "execution_count": 9,
   "id": "ea607d6b",
   "metadata": {},
   "outputs": [
    {
     "data": {
      "text/plain": [
       "['15059525',\n",
       " '15016083',\n",
       " '15261226',\n",
       " '15160163',\n",
       " '15059492',\n",
       " '15219714',\n",
       " '11135800',\n",
       " '15331812',\n",
       " '15219747',\n",
       " '15261225',\n",
       " '14449258',\n",
       " '15220657',\n",
       " '11235824',\n",
       " '15261223',\n",
       " '14449248',\n",
       " '14954807',\n",
       " '15261222',\n",
       " '11236440',\n",
       " '14954804',\n",
       " '15320552',\n",
       " '15360016',\n",
       " '15402356',\n",
       " '13781047',\n",
       " '11235697',\n",
       " '11478673',\n",
       " '14984188',\n",
       " '14921855',\n",
       " '14550700',\n",
       " '11235938',\n",
       " '13766448',\n",
       " '8116897',\n",
       " '14624679']"
      ]
     },
     "execution_count": 9,
     "metadata": {},
     "output_type": "execute_result"
    }
   ],
   "source": [
    "codigo"
   ]
  },
  {
   "cell_type": "code",
   "execution_count": null,
   "id": "4b49a996",
   "metadata": {},
   "outputs": [],
   "source": []
  }
 ],
 "metadata": {
  "interpreter": {
   "hash": "b3ba2566441a7c06988d0923437866b63cedc61552a5af99d1f4fb67d367b25f"
  },
  "kernelspec": {
   "display_name": "Python 3",
   "language": "python",
   "name": "python3"
  },
  "language_info": {
   "codemirror_mode": {
    "name": "ipython",
    "version": 3
   },
   "file_extension": ".py",
   "mimetype": "text/x-python",
   "name": "python",
   "nbconvert_exporter": "python",
   "pygments_lexer": "ipython3",
   "version": "3.8.8"
  }
 },
 "nbformat": 4,
 "nbformat_minor": 5
}
