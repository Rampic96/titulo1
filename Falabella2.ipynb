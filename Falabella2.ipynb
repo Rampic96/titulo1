{
 "cells": [
  {
   "cell_type": "code",
   "execution_count": 1,
   "source": [
    "import random\r\n",
    "from time import sleep\r\n",
    "from selenium import webdriver  \r\n",
    "from webdriver_manager.chrome import ChromeDriverManager\r\n",
    "from bs4 import BeautifulSoup\r\n",
    "import requests\r\n",
    "import pandas as pd\r\n",
    "from datetime import datetime\r\n",
    "import sys\r\n",
    "import numpy\r\n",
    "\r\n",
    "driver = webdriver.Chrome(ChromeDriverManager().install())"
   ],
   "outputs": [
    {
     "output_type": "stream",
     "name": "stderr",
     "text": [
      "\n",
      "\n",
      "====== WebDriver manager ======\n",
      "Current google-chrome version is 94.0.4606\n",
      "Get LATEST driver version for 94.0.4606\n",
      "Driver [C:\\Users\\ramir\\.wdm\\drivers\\chromedriver\\win32\\94.0.4606.61\\chromedriver.exe] found in cache\n"
     ]
    }
   ],
   "metadata": {}
  },
  {
   "cell_type": "code",
   "execution_count": 2,
   "source": [
    "##Obtención de urls de cada una de las pagina del sitio web para la navegación de notebooks\r\n",
    "url_base=[]\r\n",
    "for i in range(1,11):\r\n",
    "    url = \"https://www.falabella.com/falabella-cl/category/cat2028/Notebooks-Gamers?page=\"+str(i)\r\n",
    "    url_base.append(url)\r\n",
    "    \r\n",
    "##Obtención de urls de cada uno de los notebooks del sitio para la posterior navegación en cada uno de ellos\r\n",
    "url_notebooks=[]\r\n",
    "for url in url_base:\r\n",
    "    driver.get(url)\r\n",
    "    notebook = driver.find_elements_by_xpath('//div[@class=\"jsx-4001457643 search-results-list\"]')\r\n",
    "    for i in notebook:\r\n",
    "        link = i.find_element_by_tag_name('a').get_attribute('href')\r\n",
    "        url_notebooks.append(link)"
   ],
   "outputs": [],
   "metadata": {}
  },
  {
   "cell_type": "code",
   "execution_count": 3,
   "source": [
    "marca = []\r\n",
    "nombre_equipo = []\r\n",
    "modelo = []\r\n",
    "procesador = []\r\n",
    "almacenamiento = []\r\n",
    "codigo = []\r\n",
    "ram = []\r\n",
    "precios = []\r\n",
    "for i in url_base:\r\n",
    "    nombre = []\r\n",
    "    valor = []\r\n",
    "    driver.get(i)\r\n",
    "    sleep(2)\r\n",
    "    boton = driver.find_element_by_xpath('//button[@class=\"jsx-3459521287 mkp-swatchButton mkp-swatchButton-collapseButton\"]').click()\r\n",
    "    sleep(random.uniform(4,5))\r\n",
    "    nombre_aux = driver.find_element_by_xpath('//div[@class=\"jsx-3686231685 product-name fa--product-name\"]').text\r\n",
    "    elementos = driver.find_elements_by_xpath('//tr[@class=\"jsx-428502957\"]')\r\n",
    "    try:\r\n",
    "        precio = driver.find_element_by_xpath('//span[@class=\"copy12 primary  jsx-340449923 normal    \"]').text\r\n",
    "        \r\n",
    "    except:\r\n",
    "        try:\r\n",
    "            precio = driver.find_element_by_xpath('//span[@class=\"copy10 primary  jsx-340449923 normal    \"]').text\r\n",
    "        except:\r\n",
    "            try:\r\n",
    "                precio = driver.find_element_by_xpath('//h2[@class=\"jsx-2034229452 title6 mkp-secondary    \"]').text\r\n",
    "            except:\r\n",
    "                precio = driver.find_element_by_xpath('//span[@class=\"copy12 primary  jsx-2612542277 normal     \"]').text\r\n",
    "    codigos = driver.find_element_by_xpath('//span[@class=\"jsx-3408573263\"]').text\r\n",
    "    for j in elementos:\r\n",
    "        \r\n",
    "        nombres = j.find_element_by_xpath('.//td[@class=\"jsx-428502957 property-name\"]').text\r\n",
    "        valores = j.find_element_by_xpath('.//td[@class=\"jsx-428502957 property-value\"]').text\r\n",
    "        nombre.append(nombres)\r\n",
    "        valor.append(valores)\r\n",
    "        \r\n",
    "    if (\"Nombre comercial\" in nombre)==True:\r\n",
    "        index_modelo = nombre.index(\"Nombre comercial\")\r\n",
    "        modelo.append(valor[index_modelo].upper())\r\n",
    "    \r\n",
    "    if (\"Nombre comercial\" in nombre)==False:\r\n",
    "        modelo.append(\"Modelo no encontrado\")\r\n",
    "    \r\n",
    "    if(\"Procesador\" in nombre)==True:\r\n",
    "        index_procesador = nombre.index(\"Procesador\")\r\n",
    "        procesador.append(valor[index_procesador].upper())\r\n",
    "        \r\n",
    "    if(\"Procesador\" in nombre)==False:\r\n",
    "        procesador.append(\"Procesador no encontrado\")\r\n",
    "        \r\n",
    "    if(\"Unidad de estado sólido SSD\" in nombre)==True:\r\n",
    "        index_almacenamiento = nombre.index(\"Unidad de estado sólido SSD\")\r\n",
    "        almacenamiento.append(valor[index_almacenamiento].upper())\r\n",
    "        \r\n",
    "    if(\"Unidad de estado sólido SSD\" in nombre)==False:\r\n",
    "        almacenamiento.append(\"Almacenamiento no encontrado\")\r\n",
    "        \r\n",
    "    if(\"Memoria RAM\" in nombre)==True:\r\n",
    "        index_ram= nombre.index(\"Memoria RAM\")\r\n",
    "        ram.append(valor[index_ram].upper())\r\n",
    "        \r\n",
    "    if(\"Memoria RAM\" in nombre)==False:\r\n",
    "        ram.append(\"Memoria Ram no encontrada\") \r\n",
    "        \r\n",
    "    \r\n",
    "    precios.append(precio)\r\n",
    "    codigo.append(codigos)\r\n",
    "    nombre_equipo.append(nombre_aux)"
   ],
   "outputs": [
    {
     "output_type": "error",
     "ename": "NoSuchElementException",
     "evalue": "Message: no such element: Unable to locate element: {\"method\":\"xpath\",\"selector\":\"//button[@class=\"jsx-3459521287 mkp-swatchButton mkp-swatchButton-collapseButton\"]\"}\n  (Session info: chrome=94.0.4606.61)\n",
     "traceback": [
      "\u001b[1;31m---------------------------------------------------------------------------\u001b[0m",
      "\u001b[1;31mNoSuchElementException\u001b[0m                    Traceback (most recent call last)",
      "\u001b[1;32m<ipython-input-3-361b7ccd1c17>\u001b[0m in \u001b[0;36m<module>\u001b[1;34m\u001b[0m\n\u001b[0;32m     12\u001b[0m     \u001b[0mdriver\u001b[0m\u001b[1;33m.\u001b[0m\u001b[0mget\u001b[0m\u001b[1;33m(\u001b[0m\u001b[0mi\u001b[0m\u001b[1;33m)\u001b[0m\u001b[1;33m\u001b[0m\u001b[1;33m\u001b[0m\u001b[0m\n\u001b[0;32m     13\u001b[0m     \u001b[0msleep\u001b[0m\u001b[1;33m(\u001b[0m\u001b[1;36m2\u001b[0m\u001b[1;33m)\u001b[0m\u001b[1;33m\u001b[0m\u001b[1;33m\u001b[0m\u001b[0m\n\u001b[1;32m---> 14\u001b[1;33m     \u001b[0mboton\u001b[0m \u001b[1;33m=\u001b[0m \u001b[0mdriver\u001b[0m\u001b[1;33m.\u001b[0m\u001b[0mfind_element_by_xpath\u001b[0m\u001b[1;33m(\u001b[0m\u001b[1;34m'//button[@class=\"jsx-3459521287 mkp-swatchButton mkp-swatchButton-collapseButton\"]'\u001b[0m\u001b[1;33m)\u001b[0m\u001b[1;33m.\u001b[0m\u001b[0mclick\u001b[0m\u001b[1;33m(\u001b[0m\u001b[1;33m)\u001b[0m\u001b[1;33m\u001b[0m\u001b[1;33m\u001b[0m\u001b[0m\n\u001b[0m\u001b[0;32m     15\u001b[0m     \u001b[0msleep\u001b[0m\u001b[1;33m(\u001b[0m\u001b[0mrandom\u001b[0m\u001b[1;33m.\u001b[0m\u001b[0muniform\u001b[0m\u001b[1;33m(\u001b[0m\u001b[1;36m4\u001b[0m\u001b[1;33m,\u001b[0m\u001b[1;36m5\u001b[0m\u001b[1;33m)\u001b[0m\u001b[1;33m)\u001b[0m\u001b[1;33m\u001b[0m\u001b[1;33m\u001b[0m\u001b[0m\n\u001b[0;32m     16\u001b[0m     \u001b[0mnombre_aux\u001b[0m \u001b[1;33m=\u001b[0m \u001b[0mdriver\u001b[0m\u001b[1;33m.\u001b[0m\u001b[0mfind_element_by_xpath\u001b[0m\u001b[1;33m(\u001b[0m\u001b[1;34m'//div[@class=\"jsx-3686231685 product-name fa--product-name\"]'\u001b[0m\u001b[1;33m)\u001b[0m\u001b[1;33m.\u001b[0m\u001b[0mtext\u001b[0m\u001b[1;33m\u001b[0m\u001b[1;33m\u001b[0m\u001b[0m\n",
      "\u001b[1;32mD:\\Anaconda\\lib\\site-packages\\selenium\\webdriver\\remote\\webdriver.py\u001b[0m in \u001b[0;36mfind_element_by_xpath\u001b[1;34m(self, xpath)\u001b[0m\n\u001b[0;32m    392\u001b[0m             \u001b[0melement\u001b[0m \u001b[1;33m=\u001b[0m \u001b[0mdriver\u001b[0m\u001b[1;33m.\u001b[0m\u001b[0mfind_element_by_xpath\u001b[0m\u001b[1;33m(\u001b[0m\u001b[1;34m'//div/td[1]'\u001b[0m\u001b[1;33m)\u001b[0m\u001b[1;33m\u001b[0m\u001b[1;33m\u001b[0m\u001b[0m\n\u001b[0;32m    393\u001b[0m         \"\"\"\n\u001b[1;32m--> 394\u001b[1;33m         \u001b[1;32mreturn\u001b[0m \u001b[0mself\u001b[0m\u001b[1;33m.\u001b[0m\u001b[0mfind_element\u001b[0m\u001b[1;33m(\u001b[0m\u001b[0mby\u001b[0m\u001b[1;33m=\u001b[0m\u001b[0mBy\u001b[0m\u001b[1;33m.\u001b[0m\u001b[0mXPATH\u001b[0m\u001b[1;33m,\u001b[0m \u001b[0mvalue\u001b[0m\u001b[1;33m=\u001b[0m\u001b[0mxpath\u001b[0m\u001b[1;33m)\u001b[0m\u001b[1;33m\u001b[0m\u001b[1;33m\u001b[0m\u001b[0m\n\u001b[0m\u001b[0;32m    395\u001b[0m \u001b[1;33m\u001b[0m\u001b[0m\n\u001b[0;32m    396\u001b[0m     \u001b[1;32mdef\u001b[0m \u001b[0mfind_elements_by_xpath\u001b[0m\u001b[1;33m(\u001b[0m\u001b[0mself\u001b[0m\u001b[1;33m,\u001b[0m \u001b[0mxpath\u001b[0m\u001b[1;33m)\u001b[0m\u001b[1;33m:\u001b[0m\u001b[1;33m\u001b[0m\u001b[1;33m\u001b[0m\u001b[0m\n",
      "\u001b[1;32mD:\\Anaconda\\lib\\site-packages\\selenium\\webdriver\\remote\\webdriver.py\u001b[0m in \u001b[0;36mfind_element\u001b[1;34m(self, by, value)\u001b[0m\n\u001b[0;32m    974\u001b[0m                 \u001b[0mby\u001b[0m \u001b[1;33m=\u001b[0m \u001b[0mBy\u001b[0m\u001b[1;33m.\u001b[0m\u001b[0mCSS_SELECTOR\u001b[0m\u001b[1;33m\u001b[0m\u001b[1;33m\u001b[0m\u001b[0m\n\u001b[0;32m    975\u001b[0m                 \u001b[0mvalue\u001b[0m \u001b[1;33m=\u001b[0m \u001b[1;34m'[name=\"%s\"]'\u001b[0m \u001b[1;33m%\u001b[0m \u001b[0mvalue\u001b[0m\u001b[1;33m\u001b[0m\u001b[1;33m\u001b[0m\u001b[0m\n\u001b[1;32m--> 976\u001b[1;33m         return self.execute(Command.FIND_ELEMENT, {\n\u001b[0m\u001b[0;32m    977\u001b[0m             \u001b[1;34m'using'\u001b[0m\u001b[1;33m:\u001b[0m \u001b[0mby\u001b[0m\u001b[1;33m,\u001b[0m\u001b[1;33m\u001b[0m\u001b[1;33m\u001b[0m\u001b[0m\n\u001b[0;32m    978\u001b[0m             'value': value})['value']\n",
      "\u001b[1;32mD:\\Anaconda\\lib\\site-packages\\selenium\\webdriver\\remote\\webdriver.py\u001b[0m in \u001b[0;36mexecute\u001b[1;34m(self, driver_command, params)\u001b[0m\n\u001b[0;32m    319\u001b[0m         \u001b[0mresponse\u001b[0m \u001b[1;33m=\u001b[0m \u001b[0mself\u001b[0m\u001b[1;33m.\u001b[0m\u001b[0mcommand_executor\u001b[0m\u001b[1;33m.\u001b[0m\u001b[0mexecute\u001b[0m\u001b[1;33m(\u001b[0m\u001b[0mdriver_command\u001b[0m\u001b[1;33m,\u001b[0m \u001b[0mparams\u001b[0m\u001b[1;33m)\u001b[0m\u001b[1;33m\u001b[0m\u001b[1;33m\u001b[0m\u001b[0m\n\u001b[0;32m    320\u001b[0m         \u001b[1;32mif\u001b[0m \u001b[0mresponse\u001b[0m\u001b[1;33m:\u001b[0m\u001b[1;33m\u001b[0m\u001b[1;33m\u001b[0m\u001b[0m\n\u001b[1;32m--> 321\u001b[1;33m             \u001b[0mself\u001b[0m\u001b[1;33m.\u001b[0m\u001b[0merror_handler\u001b[0m\u001b[1;33m.\u001b[0m\u001b[0mcheck_response\u001b[0m\u001b[1;33m(\u001b[0m\u001b[0mresponse\u001b[0m\u001b[1;33m)\u001b[0m\u001b[1;33m\u001b[0m\u001b[1;33m\u001b[0m\u001b[0m\n\u001b[0m\u001b[0;32m    322\u001b[0m             response['value'] = self._unwrap_value(\n\u001b[0;32m    323\u001b[0m                 response.get('value', None))\n",
      "\u001b[1;32mD:\\Anaconda\\lib\\site-packages\\selenium\\webdriver\\remote\\errorhandler.py\u001b[0m in \u001b[0;36mcheck_response\u001b[1;34m(self, response)\u001b[0m\n\u001b[0;32m    240\u001b[0m                 \u001b[0malert_text\u001b[0m \u001b[1;33m=\u001b[0m \u001b[0mvalue\u001b[0m\u001b[1;33m[\u001b[0m\u001b[1;34m'alert'\u001b[0m\u001b[1;33m]\u001b[0m\u001b[1;33m.\u001b[0m\u001b[0mget\u001b[0m\u001b[1;33m(\u001b[0m\u001b[1;34m'text'\u001b[0m\u001b[1;33m)\u001b[0m\u001b[1;33m\u001b[0m\u001b[1;33m\u001b[0m\u001b[0m\n\u001b[0;32m    241\u001b[0m             \u001b[1;32mraise\u001b[0m \u001b[0mexception_class\u001b[0m\u001b[1;33m(\u001b[0m\u001b[0mmessage\u001b[0m\u001b[1;33m,\u001b[0m \u001b[0mscreen\u001b[0m\u001b[1;33m,\u001b[0m \u001b[0mstacktrace\u001b[0m\u001b[1;33m,\u001b[0m \u001b[0malert_text\u001b[0m\u001b[1;33m)\u001b[0m\u001b[1;33m\u001b[0m\u001b[1;33m\u001b[0m\u001b[0m\n\u001b[1;32m--> 242\u001b[1;33m         \u001b[1;32mraise\u001b[0m \u001b[0mexception_class\u001b[0m\u001b[1;33m(\u001b[0m\u001b[0mmessage\u001b[0m\u001b[1;33m,\u001b[0m \u001b[0mscreen\u001b[0m\u001b[1;33m,\u001b[0m \u001b[0mstacktrace\u001b[0m\u001b[1;33m)\u001b[0m\u001b[1;33m\u001b[0m\u001b[1;33m\u001b[0m\u001b[0m\n\u001b[0m\u001b[0;32m    243\u001b[0m \u001b[1;33m\u001b[0m\u001b[0m\n\u001b[0;32m    244\u001b[0m     \u001b[1;32mdef\u001b[0m \u001b[0m_value_or_default\u001b[0m\u001b[1;33m(\u001b[0m\u001b[0mself\u001b[0m\u001b[1;33m,\u001b[0m \u001b[0mobj\u001b[0m\u001b[1;33m,\u001b[0m \u001b[0mkey\u001b[0m\u001b[1;33m,\u001b[0m \u001b[0mdefault\u001b[0m\u001b[1;33m)\u001b[0m\u001b[1;33m:\u001b[0m\u001b[1;33m\u001b[0m\u001b[1;33m\u001b[0m\u001b[0m\n",
      "\u001b[1;31mNoSuchElementException\u001b[0m: Message: no such element: Unable to locate element: {\"method\":\"xpath\",\"selector\":\"//button[@class=\"jsx-3459521287 mkp-swatchButton mkp-swatchButton-collapseButton\"]\"}\n  (Session info: chrome=94.0.4606.61)\n"
     ]
    }
   ],
   "metadata": {}
  },
  {
   "cell_type": "code",
   "execution_count": null,
   "source": [
    "for i in range(len(precios)):\r\n",
    "    precios[i] = precios[i].replace(\" \", \"\")\r\n",
    "    precios[i] = precios[i].replace(\"$\", \"\")\r\n",
    "    precios[i] = precios[i].replace(\".\", \"\")\r\n",
    "\r\n",
    "for i in range(len(codigo)):\r\n",
    "    codigo[i] = codigo[i].replace(\"Código del producto: \",\"\")"
   ],
   "outputs": [],
   "metadata": {}
  }
 ],
 "metadata": {
  "orig_nbformat": 4,
  "language_info": {
   "name": "python",
   "version": "3.8.5",
   "mimetype": "text/x-python",
   "codemirror_mode": {
    "name": "ipython",
    "version": 3
   },
   "pygments_lexer": "ipython3",
   "nbconvert_exporter": "python",
   "file_extension": ".py"
  },
  "kernelspec": {
   "name": "python3",
   "display_name": "Python 3.8.5 64-bit ('base': conda)"
  },
  "interpreter": {
   "hash": "07efdcd4b820c98a756949507a4d29d7862823915ec7477944641bea022f4f62"
  }
 },
 "nbformat": 4,
 "nbformat_minor": 2
}